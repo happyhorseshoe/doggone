{
 "cells": [
  {
   "cell_type": "code",
   "execution_count": 2,
   "metadata": {},
   "outputs": [],
   "source": [
    "#importing the necessarcy packages \n",
    "import pandas as pd\n",
    "import numpy as np\n",
    "#showing data that will be used\n",
    "data = pd.read_csv('data.csv')\n",
    "\n",
    "#I want to focus on dogs outcome and if it is effected by age, gender, breed.  Is there better outcomes in different seasons? "
   ]
  },
  {
   "cell_type": "code",
   "execution_count": 3,
   "metadata": {},
   "outputs": [
    {
     "name": "stdout",
     "output_type": "stream",
     "text": [
      "<class 'pandas.core.frame.DataFrame'>\n",
      "RangeIndex: 137102 entries, 0 to 137101\n",
      "Data columns (total 12 columns):\n",
      " #   Column            Non-Null Count   Dtype \n",
      "---  ------            --------------   ----- \n",
      " 0   Animal ID         137102 non-null  object\n",
      " 1   Name              96100 non-null   object\n",
      " 2   DateTime          137102 non-null  object\n",
      " 3   MonthYear         137102 non-null  object\n",
      " 4   Date of Birth     137102 non-null  object\n",
      " 5   Outcome Type      137078 non-null  object\n",
      " 6   Outcome Subtype   62654 non-null   object\n",
      " 7   Animal Type       137102 non-null  object\n",
      " 8   Sex upon Outcome  137100 non-null  object\n",
      " 9   Age upon Outcome  137097 non-null  object\n",
      " 10  Breed             137102 non-null  object\n",
      " 11  Color             137102 non-null  object\n",
      "dtypes: object(12)\n",
      "memory usage: 12.6+ MB\n"
     ]
    }
   ],
   "source": [
    "#getting rid of data not needed\n",
    "#first show what columns are and number\n",
    "data.info()"
   ]
  },
  {
   "cell_type": "code",
   "execution_count": 7,
   "metadata": {},
   "outputs": [
    {
     "data": {
      "text/plain": [
       "Dog          77096\n",
       "Cat          52092\n",
       "Other         7253\n",
       "Bird           636\n",
       "Livestock       25\n",
       "Name: Animal Type, dtype: int64"
      ]
     },
     "execution_count": 7,
     "metadata": {},
     "output_type": "execute_result"
    }
   ],
   "source": [
    "data['Animal Type'].value_counts()"
   ]
  },
  {
   "cell_type": "code",
   "execution_count": null,
   "metadata": {},
   "outputs": [],
   "source": []
  }
 ],
 "metadata": {
  "interpreter": {
   "hash": "4339233acef0d9ee43dddba0b88b64a49c827e791183ab9463a621e4a753f885"
  },
  "kernelspec": {
   "display_name": "Python 3.10.1 ('.venv': venv)",
   "language": "python",
   "name": "python3"
  },
  "language_info": {
   "codemirror_mode": {
    "name": "ipython",
    "version": 3
   },
   "file_extension": ".py",
   "mimetype": "text/x-python",
   "name": "python",
   "nbconvert_exporter": "python",
   "pygments_lexer": "ipython3",
   "version": "3.10.1"
  },
  "orig_nbformat": 4
 },
 "nbformat": 4,
 "nbformat_minor": 2
}
