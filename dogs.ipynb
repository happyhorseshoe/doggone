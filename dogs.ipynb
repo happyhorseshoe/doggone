{
 "cells": [
  {
   "cell_type": "markdown",
   "metadata": {},
   "source": [
    "## Project Doggone"
   ]
  },
  {
   "cell_type": "markdown",
   "metadata": {},
   "source": [
    "I want to focus on dogs only. Does breed, age or gender matter on the outcome of the dog?  I think gender won't matter as much as age and breed, with puppies and young dogs having the highest adoption rates and Pit Bulls having a harder time, with higher numbers of being in the shelter and more negative outcomes than other breeds."
   ]
  },
  {
   "cell_type": "markdown",
   "metadata": {},
   "source": [
    "> Importing the necessary packages. Reading in the data. Showing what columns I have to begin with :"
   ]
  },
  {
   "cell_type": "code",
   "execution_count": 113,
   "metadata": {},
   "outputs": [
    {
     "name": "stdout",
     "output_type": "stream",
     "text": [
      "<class 'pandas.core.frame.DataFrame'>\n",
      "RangeIndex: 137102 entries, 0 to 137101\n",
      "Data columns (total 12 columns):\n",
      " #   Column            Non-Null Count   Dtype \n",
      "---  ------            --------------   ----- \n",
      " 0   Animal ID         137102 non-null  object\n",
      " 1   Name              96100 non-null   object\n",
      " 2   DateTime          137102 non-null  object\n",
      " 3   MonthYear         137102 non-null  object\n",
      " 4   Date of Birth     137102 non-null  object\n",
      " 5   Outcome Type      137078 non-null  object\n",
      " 6   Outcome Subtype   62654 non-null   object\n",
      " 7   Animal Type       137102 non-null  object\n",
      " 8   Sex upon Outcome  137100 non-null  object\n",
      " 9   Age upon Outcome  137097 non-null  object\n",
      " 10  Breed             137102 non-null  object\n",
      " 11  Color             137102 non-null  object\n",
      "dtypes: object(12)\n",
      "memory usage: 12.6+ MB\n"
     ]
    }
   ],
   "source": [
    "import pandas as pd\n",
    "import numpy as np\n",
    "import matplotlib.pyplot as plt\n",
    "\n",
    "df = pd.read_csv('data.csv')\n",
    "df.info()"
   ]
  },
  {
   "cell_type": "markdown",
   "metadata": {},
   "source": [
    "> Dropping columns I don't need :"
   ]
  },
  {
   "cell_type": "code",
   "execution_count": 114,
   "metadata": {},
   "outputs": [
    {
     "data": {
      "text/html": [
       "<div>\n",
       "<style scoped>\n",
       "    .dataframe tbody tr th:only-of-type {\n",
       "        vertical-align: middle;\n",
       "    }\n",
       "\n",
       "    .dataframe tbody tr th {\n",
       "        vertical-align: top;\n",
       "    }\n",
       "\n",
       "    .dataframe thead th {\n",
       "        text-align: right;\n",
       "    }\n",
       "</style>\n",
       "<table border=\"1\" class=\"dataframe\">\n",
       "  <thead>\n",
       "    <tr style=\"text-align: right;\">\n",
       "      <th></th>\n",
       "      <th>Animal ID</th>\n",
       "      <th>MonthYear</th>\n",
       "      <th>Outcome Type</th>\n",
       "      <th>Animal Type</th>\n",
       "      <th>Sex upon Outcome</th>\n",
       "      <th>Age upon Outcome</th>\n",
       "      <th>Breed</th>\n",
       "      <th>Color</th>\n",
       "    </tr>\n",
       "  </thead>\n",
       "  <tbody>\n",
       "    <tr>\n",
       "      <th>0</th>\n",
       "      <td>A794011</td>\n",
       "      <td>19-May</td>\n",
       "      <td>Rto-Adopt</td>\n",
       "      <td>Cat</td>\n",
       "      <td>Neutered Male</td>\n",
       "      <td>2 years</td>\n",
       "      <td>Domestic Shorthair Mix</td>\n",
       "      <td>Brown Tabby/White</td>\n",
       "    </tr>\n",
       "    <tr>\n",
       "      <th>1</th>\n",
       "      <td>A776359</td>\n",
       "      <td>18-Jul</td>\n",
       "      <td>Adoption</td>\n",
       "      <td>Dog</td>\n",
       "      <td>Neutered Male</td>\n",
       "      <td>1 year</td>\n",
       "      <td>Chihuahua Shorthair Mix</td>\n",
       "      <td>White/Brown</td>\n",
       "    </tr>\n",
       "    <tr>\n",
       "      <th>2</th>\n",
       "      <td>A821648</td>\n",
       "      <td>20-Aug</td>\n",
       "      <td>Euthanasia</td>\n",
       "      <td>Other</td>\n",
       "      <td>Unknown</td>\n",
       "      <td>1 year</td>\n",
       "      <td>Raccoon</td>\n",
       "      <td>Gray</td>\n",
       "    </tr>\n",
       "    <tr>\n",
       "      <th>3</th>\n",
       "      <td>A720371</td>\n",
       "      <td>16-Feb</td>\n",
       "      <td>Adoption</td>\n",
       "      <td>Dog</td>\n",
       "      <td>Neutered Male</td>\n",
       "      <td>4 months</td>\n",
       "      <td>Anatol Shepherd/Labrador Retriever</td>\n",
       "      <td>Buff</td>\n",
       "    </tr>\n",
       "    <tr>\n",
       "      <th>4</th>\n",
       "      <td>A674754</td>\n",
       "      <td>14-Mar</td>\n",
       "      <td>Transfer</td>\n",
       "      <td>Cat</td>\n",
       "      <td>Intact Male</td>\n",
       "      <td>6 days</td>\n",
       "      <td>Domestic Shorthair Mix</td>\n",
       "      <td>Orange Tabby</td>\n",
       "    </tr>\n",
       "  </tbody>\n",
       "</table>\n",
       "</div>"
      ],
      "text/plain": [
       "  Animal ID MonthYear Outcome Type Animal Type Sex upon Outcome  \\\n",
       "0   A794011    19-May    Rto-Adopt         Cat    Neutered Male   \n",
       "1   A776359    18-Jul     Adoption         Dog    Neutered Male   \n",
       "2   A821648    20-Aug   Euthanasia       Other          Unknown   \n",
       "3   A720371    16-Feb     Adoption         Dog    Neutered Male   \n",
       "4   A674754    14-Mar     Transfer         Cat      Intact Male   \n",
       "\n",
       "  Age upon Outcome                               Breed              Color  \n",
       "0          2 years              Domestic Shorthair Mix  Brown Tabby/White  \n",
       "1           1 year             Chihuahua Shorthair Mix        White/Brown  \n",
       "2           1 year                             Raccoon               Gray  \n",
       "3         4 months  Anatol Shepherd/Labrador Retriever               Buff  \n",
       "4           6 days              Domestic Shorthair Mix       Orange Tabby  "
      ]
     },
     "execution_count": 114,
     "metadata": {},
     "output_type": "execute_result"
    }
   ],
   "source": [
    "df.drop(columns=['Name'], inplace=True)\n",
    "df.drop(columns=['DateTime'], inplace=True)\n",
    "df.drop(columns=['Outcome Subtype'], inplace=True)\n",
    "df.drop(columns=['Date of Birth'], inplace=True)\n",
    "df.head()"
   ]
  },
  {
   "cell_type": "markdown",
   "metadata": {},
   "source": [
    ">  Seeing what Animal Types, then dropping all but dogs :"
   ]
  },
  {
   "cell_type": "code",
   "execution_count": 115,
   "metadata": {},
   "outputs": [
    {
     "data": {
      "text/plain": [
       "Dog          77096\n",
       "Cat          52092\n",
       "Other         7253\n",
       "Bird           636\n",
       "Livestock       25\n",
       "Name: Animal Type, dtype: int64"
      ]
     },
     "execution_count": 115,
     "metadata": {},
     "output_type": "execute_result"
    }
   ],
   "source": [
    "df['Animal Type'].value_counts()\n"
   ]
  },
  {
   "cell_type": "code",
   "execution_count": 116,
   "metadata": {},
   "outputs": [
    {
     "data": {
      "text/html": [
       "<div>\n",
       "<style scoped>\n",
       "    .dataframe tbody tr th:only-of-type {\n",
       "        vertical-align: middle;\n",
       "    }\n",
       "\n",
       "    .dataframe tbody tr th {\n",
       "        vertical-align: top;\n",
       "    }\n",
       "\n",
       "    .dataframe thead th {\n",
       "        text-align: right;\n",
       "    }\n",
       "</style>\n",
       "<table border=\"1\" class=\"dataframe\">\n",
       "  <thead>\n",
       "    <tr style=\"text-align: right;\">\n",
       "      <th></th>\n",
       "      <th>Animal ID</th>\n",
       "      <th>MonthYear</th>\n",
       "      <th>Outcome Type</th>\n",
       "      <th>Animal Type</th>\n",
       "      <th>Sex upon Outcome</th>\n",
       "      <th>Age upon Outcome</th>\n",
       "      <th>Breed</th>\n",
       "      <th>Color</th>\n",
       "    </tr>\n",
       "  </thead>\n",
       "  <tbody>\n",
       "    <tr>\n",
       "      <th>1</th>\n",
       "      <td>A776359</td>\n",
       "      <td>18-Jul</td>\n",
       "      <td>Adoption</td>\n",
       "      <td>Dog</td>\n",
       "      <td>Neutered Male</td>\n",
       "      <td>1 year</td>\n",
       "      <td>Chihuahua Shorthair Mix</td>\n",
       "      <td>White/Brown</td>\n",
       "    </tr>\n",
       "    <tr>\n",
       "      <th>3</th>\n",
       "      <td>A720371</td>\n",
       "      <td>16-Feb</td>\n",
       "      <td>Adoption</td>\n",
       "      <td>Dog</td>\n",
       "      <td>Neutered Male</td>\n",
       "      <td>4 months</td>\n",
       "      <td>Anatol Shepherd/Labrador Retriever</td>\n",
       "      <td>Buff</td>\n",
       "    </tr>\n",
       "    <tr>\n",
       "      <th>5</th>\n",
       "      <td>A659412</td>\n",
       "      <td>20-Oct</td>\n",
       "      <td>Adoption</td>\n",
       "      <td>Dog</td>\n",
       "      <td>Spayed Female</td>\n",
       "      <td>7 years</td>\n",
       "      <td>Chihuahua Shorthair Mix</td>\n",
       "      <td>Brown</td>\n",
       "    </tr>\n",
       "    <tr>\n",
       "      <th>6</th>\n",
       "      <td>A814515</td>\n",
       "      <td>20-May</td>\n",
       "      <td>Adoption</td>\n",
       "      <td>Dog</td>\n",
       "      <td>Neutered Male</td>\n",
       "      <td>2 years</td>\n",
       "      <td>American Foxhound/Labrador Retriever</td>\n",
       "      <td>White/Brown</td>\n",
       "    </tr>\n",
       "    <tr>\n",
       "      <th>9</th>\n",
       "      <td>A840370</td>\n",
       "      <td>21-Aug</td>\n",
       "      <td>Adoption</td>\n",
       "      <td>Dog</td>\n",
       "      <td>Spayed Female</td>\n",
       "      <td>2 years</td>\n",
       "      <td>Border Collie/Cardigan Welsh Corgi</td>\n",
       "      <td>Black/White</td>\n",
       "    </tr>\n",
       "  </tbody>\n",
       "</table>\n",
       "</div>"
      ],
      "text/plain": [
       "  Animal ID MonthYear Outcome Type Animal Type Sex upon Outcome  \\\n",
       "1   A776359    18-Jul     Adoption         Dog    Neutered Male   \n",
       "3   A720371    16-Feb     Adoption         Dog    Neutered Male   \n",
       "5   A659412    20-Oct     Adoption         Dog    Spayed Female   \n",
       "6   A814515    20-May     Adoption         Dog    Neutered Male   \n",
       "9   A840370    21-Aug     Adoption         Dog    Spayed Female   \n",
       "\n",
       "  Age upon Outcome                                 Breed        Color  \n",
       "1           1 year               Chihuahua Shorthair Mix  White/Brown  \n",
       "3         4 months    Anatol Shepherd/Labrador Retriever         Buff  \n",
       "5          7 years               Chihuahua Shorthair Mix        Brown  \n",
       "6          2 years  American Foxhound/Labrador Retriever  White/Brown  \n",
       "9          2 years    Border Collie/Cardigan Welsh Corgi  Black/White  "
      ]
     },
     "execution_count": 116,
     "metadata": {},
     "output_type": "execute_result"
    }
   ],
   "source": [
    "df = df[df['Animal Type'] !='Cat']\n",
    "df = df[df['Animal Type'] !='Other']\n",
    "df = df[df['Animal Type'] !='Bird']\n",
    "df = df[df['Animal Type'] !='Livestock']\n",
    "df.head()\n"
   ]
  },
  {
   "cell_type": "markdown",
   "metadata": {},
   "source": [
    "> The next two cells, checking for missing data.  There isn't much missing so it shouldn't have an impact worth noting for my purpose, but I have it if I need it for later."
   ]
  },
  {
   "cell_type": "code",
   "execution_count": 117,
   "metadata": {},
   "outputs": [
    {
     "data": {
      "text/plain": [
       "Animal ID            0\n",
       "MonthYear            0\n",
       "Outcome Type        15\n",
       "Animal Type          0\n",
       "Sex upon Outcome     2\n",
       "Age upon Outcome     2\n",
       "Breed                0\n",
       "Color                0\n",
       "dtype: int64"
      ]
     },
     "execution_count": 117,
     "metadata": {},
     "output_type": "execute_result"
    }
   ],
   "source": [
    "df.isnull().sum()"
   ]
  },
  {
   "cell_type": "code",
   "execution_count": 118,
   "metadata": {},
   "outputs": [
    {
     "data": {
      "text/html": [
       "<div>\n",
       "<style scoped>\n",
       "    .dataframe tbody tr th:only-of-type {\n",
       "        vertical-align: middle;\n",
       "    }\n",
       "\n",
       "    .dataframe tbody tr th {\n",
       "        vertical-align: top;\n",
       "    }\n",
       "\n",
       "    .dataframe thead th {\n",
       "        text-align: right;\n",
       "    }\n",
       "</style>\n",
       "<table border=\"1\" class=\"dataframe\">\n",
       "  <thead>\n",
       "    <tr style=\"text-align: right;\">\n",
       "      <th></th>\n",
       "      <th>Animal ID</th>\n",
       "      <th>MonthYear</th>\n",
       "      <th>Outcome Type</th>\n",
       "      <th>Animal Type</th>\n",
       "      <th>Sex upon Outcome</th>\n",
       "      <th>Age upon Outcome</th>\n",
       "      <th>Breed</th>\n",
       "      <th>Color</th>\n",
       "    </tr>\n",
       "  </thead>\n",
       "  <tbody>\n",
       "    <tr>\n",
       "      <th>3416</th>\n",
       "      <td>A828272</td>\n",
       "      <td>21-Feb</td>\n",
       "      <td>NaN</td>\n",
       "      <td>Dog</td>\n",
       "      <td>Neutered Male</td>\n",
       "      <td>1 year</td>\n",
       "      <td>Blue Lacy Mix</td>\n",
       "      <td>Blue/White</td>\n",
       "    </tr>\n",
       "    <tr>\n",
       "      <th>9040</th>\n",
       "      <td>A700839</td>\n",
       "      <td>21-Jan</td>\n",
       "      <td>NaN</td>\n",
       "      <td>Dog</td>\n",
       "      <td>Neutered Male</td>\n",
       "      <td>6 years</td>\n",
       "      <td>Pit Bull Mix</td>\n",
       "      <td>Blue</td>\n",
       "    </tr>\n",
       "    <tr>\n",
       "      <th>14612</th>\n",
       "      <td>A841539</td>\n",
       "      <td>21-Aug</td>\n",
       "      <td>NaN</td>\n",
       "      <td>Dog</td>\n",
       "      <td>Intact Male</td>\n",
       "      <td>2 years</td>\n",
       "      <td>German Shepherd</td>\n",
       "      <td>Black/Tan</td>\n",
       "    </tr>\n",
       "    <tr>\n",
       "      <th>20026</th>\n",
       "      <td>A827712</td>\n",
       "      <td>21-Jan</td>\n",
       "      <td>NaN</td>\n",
       "      <td>Dog</td>\n",
       "      <td>Spayed Female</td>\n",
       "      <td>10 months</td>\n",
       "      <td>German Shepherd</td>\n",
       "      <td>Tan/Black</td>\n",
       "    </tr>\n",
       "    <tr>\n",
       "      <th>24113</th>\n",
       "      <td>A828543</td>\n",
       "      <td>21-Jan</td>\n",
       "      <td>NaN</td>\n",
       "      <td>Dog</td>\n",
       "      <td>Spayed Female</td>\n",
       "      <td>6 months</td>\n",
       "      <td>Labrador Retriever/Border Collie</td>\n",
       "      <td>Black/White</td>\n",
       "    </tr>\n",
       "  </tbody>\n",
       "</table>\n",
       "</div>"
      ],
      "text/plain": [
       "      Animal ID MonthYear Outcome Type Animal Type Sex upon Outcome  \\\n",
       "3416    A828272    21-Feb          NaN         Dog    Neutered Male   \n",
       "9040    A700839    21-Jan          NaN         Dog    Neutered Male   \n",
       "14612   A841539    21-Aug          NaN         Dog      Intact Male   \n",
       "20026   A827712    21-Jan          NaN         Dog    Spayed Female   \n",
       "24113   A828543    21-Jan          NaN         Dog    Spayed Female   \n",
       "\n",
       "      Age upon Outcome                             Breed        Color  \n",
       "3416            1 year                     Blue Lacy Mix   Blue/White  \n",
       "9040           6 years                      Pit Bull Mix         Blue  \n",
       "14612          2 years                   German Shepherd    Black/Tan  \n",
       "20026        10 months                   German Shepherd    Tan/Black  \n",
       "24113         6 months  Labrador Retriever/Border Collie  Black/White  "
      ]
     },
     "execution_count": 118,
     "metadata": {},
     "output_type": "execute_result"
    }
   ],
   "source": [
    "missing_outcome_type = pd.isnull(df['Outcome Type'])\n",
    "df[missing_outcome_type].head()"
   ]
  },
  {
   "cell_type": "markdown",
   "metadata": {},
   "source": [
    "> resetting the index to make it easier to use later :"
   ]
  },
  {
   "cell_type": "code",
   "execution_count": 119,
   "metadata": {},
   "outputs": [
    {
     "data": {
      "text/html": [
       "<div>\n",
       "<style scoped>\n",
       "    .dataframe tbody tr th:only-of-type {\n",
       "        vertical-align: middle;\n",
       "    }\n",
       "\n",
       "    .dataframe tbody tr th {\n",
       "        vertical-align: top;\n",
       "    }\n",
       "\n",
       "    .dataframe thead th {\n",
       "        text-align: right;\n",
       "    }\n",
       "</style>\n",
       "<table border=\"1\" class=\"dataframe\">\n",
       "  <thead>\n",
       "    <tr style=\"text-align: right;\">\n",
       "      <th></th>\n",
       "      <th>Animal ID</th>\n",
       "      <th>MonthYear</th>\n",
       "      <th>Outcome Type</th>\n",
       "      <th>Animal Type</th>\n",
       "      <th>Sex upon Outcome</th>\n",
       "      <th>Age upon Outcome</th>\n",
       "      <th>Breed</th>\n",
       "      <th>Color</th>\n",
       "    </tr>\n",
       "  </thead>\n",
       "  <tbody>\n",
       "    <tr>\n",
       "      <th>0</th>\n",
       "      <td>A776359</td>\n",
       "      <td>18-Jul</td>\n",
       "      <td>Adoption</td>\n",
       "      <td>Dog</td>\n",
       "      <td>Neutered Male</td>\n",
       "      <td>1 year</td>\n",
       "      <td>Chihuahua Shorthair Mix</td>\n",
       "      <td>White/Brown</td>\n",
       "    </tr>\n",
       "    <tr>\n",
       "      <th>1</th>\n",
       "      <td>A720371</td>\n",
       "      <td>16-Feb</td>\n",
       "      <td>Adoption</td>\n",
       "      <td>Dog</td>\n",
       "      <td>Neutered Male</td>\n",
       "      <td>4 months</td>\n",
       "      <td>Anatol Shepherd/Labrador Retriever</td>\n",
       "      <td>Buff</td>\n",
       "    </tr>\n",
       "    <tr>\n",
       "      <th>2</th>\n",
       "      <td>A659412</td>\n",
       "      <td>20-Oct</td>\n",
       "      <td>Adoption</td>\n",
       "      <td>Dog</td>\n",
       "      <td>Spayed Female</td>\n",
       "      <td>7 years</td>\n",
       "      <td>Chihuahua Shorthair Mix</td>\n",
       "      <td>Brown</td>\n",
       "    </tr>\n",
       "    <tr>\n",
       "      <th>3</th>\n",
       "      <td>A814515</td>\n",
       "      <td>20-May</td>\n",
       "      <td>Adoption</td>\n",
       "      <td>Dog</td>\n",
       "      <td>Neutered Male</td>\n",
       "      <td>2 years</td>\n",
       "      <td>American Foxhound/Labrador Retriever</td>\n",
       "      <td>White/Brown</td>\n",
       "    </tr>\n",
       "    <tr>\n",
       "      <th>4</th>\n",
       "      <td>A840370</td>\n",
       "      <td>21-Aug</td>\n",
       "      <td>Adoption</td>\n",
       "      <td>Dog</td>\n",
       "      <td>Spayed Female</td>\n",
       "      <td>2 years</td>\n",
       "      <td>Border Collie/Cardigan Welsh Corgi</td>\n",
       "      <td>Black/White</td>\n",
       "    </tr>\n",
       "  </tbody>\n",
       "</table>\n",
       "</div>"
      ],
      "text/plain": [
       "  Animal ID MonthYear Outcome Type Animal Type Sex upon Outcome  \\\n",
       "0   A776359    18-Jul     Adoption         Dog    Neutered Male   \n",
       "1   A720371    16-Feb     Adoption         Dog    Neutered Male   \n",
       "2   A659412    20-Oct     Adoption         Dog    Spayed Female   \n",
       "3   A814515    20-May     Adoption         Dog    Neutered Male   \n",
       "4   A840370    21-Aug     Adoption         Dog    Spayed Female   \n",
       "\n",
       "  Age upon Outcome                                 Breed        Color  \n",
       "0           1 year               Chihuahua Shorthair Mix  White/Brown  \n",
       "1         4 months    Anatol Shepherd/Labrador Retriever         Buff  \n",
       "2          7 years               Chihuahua Shorthair Mix        Brown  \n",
       "3          2 years  American Foxhound/Labrador Retriever  White/Brown  \n",
       "4          2 years    Border Collie/Cardigan Welsh Corgi  Black/White  "
      ]
     },
     "execution_count": 119,
     "metadata": {},
     "output_type": "execute_result"
    }
   ],
   "source": [
    "df = df.reset_index(drop=True)\n",
    "df.head()"
   ]
  },
  {
   "cell_type": "markdown",
   "metadata": {},
   "source": [
    "> ### First I'll focus on Breed."
   ]
  },
  {
   "cell_type": "code",
   "execution_count": 120,
   "metadata": {},
   "outputs": [
    {
     "data": {
      "text/plain": [
       "Pit Bull Mix                         8940\n",
       "Labrador Retriever Mix               7397\n",
       "Chihuahua Shorthair Mix              6519\n",
       "German Shepherd Mix                  3306\n",
       "Pit Bull                             1842\n",
       "                                     ... \n",
       "Schnauzer Giant/Otterhound              1\n",
       "Greyhound/Border Collie                 1\n",
       "Miniature Schnauzer/West Highland       1\n",
       "Alaskan Husky/Collie Smooth             1\n",
       "Standard Schnauzer/Siberian Husky       1\n",
       "Name: Breed, Length: 2421, dtype: int64"
      ]
     },
     "execution_count": 120,
     "metadata": {},
     "output_type": "execute_result"
    }
   ],
   "source": [
    "df['Breed'].value_counts()  "
   ]
  },
  {
   "cell_type": "code",
   "execution_count": 121,
   "metadata": {},
   "outputs": [
    {
     "data": {
      "image/png": "[encoded data removed]",
      "text/plain": [
       "<Figure size 432x288 with 1 Axes>"
      ]
     },
     "metadata": {},
     "output_type": "display_data"
    }
   ],
   "source": [
    "plt.style.use(\"fivethirtyeight\")\n",
    "\n",
    "slices = [1842,3306,6519,7397,8940]\n",
    "labels = ['Pit Bull', 'German Shepard Mix', 'Chihuahua Shorthair Mix', 'Labrador Retriever Mix', 'Pit Bull Mix']\n",
    "#colors = ['blue', 'orange', 'green', 'yellow', 'gray']\n",
    "\n",
    "plt.pie(slices, labels=labels, \n",
    "    wedgeprops={'edgecolor': 'black'})\n",
    "\n",
    "\n",
    "plt.title(\"Most Common Breeds\")\n",
    "plt.tight_layout()\n",
    "plt.show()"
   ]
  },
  {
   "cell_type": "markdown",
   "metadata": {},
   "source": [
    "> ### Now let's look at Age. \n",
    "> First, I want to see the unique values.  Then I made a dictionary to group the ages as follows:<BR>\n",
    "puppy (up to a year) , young (1-3) , adult (4-9) , and elder (10 and over).  I am not including -years or 0 years."
   ]
  },
  {
   "cell_type": "code",
   "execution_count": 122,
   "metadata": {},
   "outputs": [
    {
     "data": {
      "text/plain": [
       "array(['-1 years', '-2 years', '-3 years', '0 years', '1 day', '1 month',\n",
       "       '1 week', '1 weeks', '1 year', '10 months', '10 years',\n",
       "       '11 months', '11 years', '12 years', '13 years', '14 years',\n",
       "       '15 years', '16 years', '17 years', '18 years', '19 years',\n",
       "       '2 days', '2 months', '2 weeks', '2 years', '20 years', '23 years',\n",
       "       '24 years', '3 days', '3 months', '3 weeks', '3 years', '4 days',\n",
       "       '4 months', '4 weeks', '4 years', '5 days', '5 months', '5 weeks',\n",
       "       '5 years', '6 days', '6 months', '6 years', '7 months', '7 years',\n",
       "       '8 months', '8 years', '9 months', '9 years', nan], dtype=object)"
      ]
     },
     "execution_count": 122,
     "metadata": {},
     "output_type": "execute_result"
    }
   ],
   "source": [
    "df['Age upon Outcome'].sort_values(ascending=True).unique()"
   ]
  },
  {
   "cell_type": "code",
   "execution_count": 123,
   "metadata": {},
   "outputs": [
    {
     "data": {
      "text/plain": [
       "young    35349\n",
       "puppy    23376\n",
       "adult    14393\n",
       "elder     3911\n",
       "Name: Age Group, dtype: int64"
      ]
     },
     "execution_count": 123,
     "metadata": {},
     "output_type": "execute_result"
    }
   ],
   "source": [
    "age = {'1 day': 'puppy', '1 month': 'puppy', '1 week': 'puppy', '1 weeks': 'puppy','10 months': 'puppy', '11 months': 'puppy' ,\n",
    "'2 days': 'puppy', '2 months': 'puppy', '2 weeks': 'puppy', '3 days':'puppy', '3 months': 'puppy', '3 weeks':'puppy', '4 days':'puppy', \n",
    "'4 months':'puppy', '4 weeks':'puppy', '5 days': 'puppy', '5 months': 'puppy', '5 weeks':'puppy', '6 days':'puppy', '6 months':'puppy',\n",
    "'7 months':'puppy', '8 months':'puppy', '9 months':'puppy', '1 year':'young', '2 years':'young', '10 years':'elder', '11 years':'elder',\n",
    "'12 years':'elder', '13 years':'elder', '14 years': 'elder', '15 years': 'elder', '16 years':'elder', '17 years':'elder' , '18 years':'elder',\n",
    "'19 years':'elder', '20 years':'elder', '23 years':'elder', '24 years':'elder', '3 years':'young', '4 years':'adult', '5 years': 'adult',\n",
    "'6 years':'adult', '7 years':'adult', '8 years':'adult', '9 years':'adult'}\n",
    "\n",
    "df['Age Group'] = df['Age upon Outcome'].map(age)\n",
    "\n",
    "df['Age Group'].value_counts()"
   ]
  },
  {
   "cell_type": "code",
   "execution_count": 124,
   "metadata": {},
   "outputs": [
    {
     "data": {
      "text/html": [
       "<div>\n",
       "<style scoped>\n",
       "    .dataframe tbody tr th:only-of-type {\n",
       "        vertical-align: middle;\n",
       "    }\n",
       "\n",
       "    .dataframe tbody tr th {\n",
       "        vertical-align: top;\n",
       "    }\n",
       "\n",
       "    .dataframe thead th {\n",
       "        text-align: right;\n",
       "    }\n",
       "</style>\n",
       "<table border=\"1\" class=\"dataframe\">\n",
       "  <thead>\n",
       "    <tr style=\"text-align: right;\">\n",
       "      <th></th>\n",
       "      <th>Animal ID</th>\n",
       "      <th>MonthYear</th>\n",
       "      <th>Outcome Type</th>\n",
       "      <th>Animal Type</th>\n",
       "      <th>Sex upon Outcome</th>\n",
       "      <th>Age upon Outcome</th>\n",
       "      <th>Breed</th>\n",
       "      <th>Color</th>\n",
       "      <th>Age Group</th>\n",
       "    </tr>\n",
       "  </thead>\n",
       "  <tbody>\n",
       "    <tr>\n",
       "      <th>0</th>\n",
       "      <td>A776359</td>\n",
       "      <td>18-Jul</td>\n",
       "      <td>Adoption</td>\n",
       "      <td>Dog</td>\n",
       "      <td>Neutered Male</td>\n",
       "      <td>1 year</td>\n",
       "      <td>Chihuahua Shorthair Mix</td>\n",
       "      <td>White/Brown</td>\n",
       "      <td>young</td>\n",
       "    </tr>\n",
       "    <tr>\n",
       "      <th>1</th>\n",
       "      <td>A720371</td>\n",
       "      <td>16-Feb</td>\n",
       "      <td>Adoption</td>\n",
       "      <td>Dog</td>\n",
       "      <td>Neutered Male</td>\n",
       "      <td>4 months</td>\n",
       "      <td>Anatol Shepherd/Labrador Retriever</td>\n",
       "      <td>Buff</td>\n",
       "      <td>puppy</td>\n",
       "    </tr>\n",
       "    <tr>\n",
       "      <th>2</th>\n",
       "      <td>A659412</td>\n",
       "      <td>20-Oct</td>\n",
       "      <td>Adoption</td>\n",
       "      <td>Dog</td>\n",
       "      <td>Spayed Female</td>\n",
       "      <td>7 years</td>\n",
       "      <td>Chihuahua Shorthair Mix</td>\n",
       "      <td>Brown</td>\n",
       "      <td>adult</td>\n",
       "    </tr>\n",
       "    <tr>\n",
       "      <th>3</th>\n",
       "      <td>A814515</td>\n",
       "      <td>20-May</td>\n",
       "      <td>Adoption</td>\n",
       "      <td>Dog</td>\n",
       "      <td>Neutered Male</td>\n",
       "      <td>2 years</td>\n",
       "      <td>American Foxhound/Labrador Retriever</td>\n",
       "      <td>White/Brown</td>\n",
       "      <td>young</td>\n",
       "    </tr>\n",
       "    <tr>\n",
       "      <th>4</th>\n",
       "      <td>A840370</td>\n",
       "      <td>21-Aug</td>\n",
       "      <td>Adoption</td>\n",
       "      <td>Dog</td>\n",
       "      <td>Spayed Female</td>\n",
       "      <td>2 years</td>\n",
       "      <td>Border Collie/Cardigan Welsh Corgi</td>\n",
       "      <td>Black/White</td>\n",
       "      <td>young</td>\n",
       "    </tr>\n",
       "  </tbody>\n",
       "</table>\n",
       "</div>"
      ],
      "text/plain": [
       "  Animal ID MonthYear Outcome Type Animal Type Sex upon Outcome  \\\n",
       "0   A776359    18-Jul     Adoption         Dog    Neutered Male   \n",
       "1   A720371    16-Feb     Adoption         Dog    Neutered Male   \n",
       "2   A659412    20-Oct     Adoption         Dog    Spayed Female   \n",
       "3   A814515    20-May     Adoption         Dog    Neutered Male   \n",
       "4   A840370    21-Aug     Adoption         Dog    Spayed Female   \n",
       "\n",
       "  Age upon Outcome                                 Breed        Color  \\\n",
       "0           1 year               Chihuahua Shorthair Mix  White/Brown   \n",
       "1         4 months    Anatol Shepherd/Labrador Retriever         Buff   \n",
       "2          7 years               Chihuahua Shorthair Mix        Brown   \n",
       "3          2 years  American Foxhound/Labrador Retriever  White/Brown   \n",
       "4          2 years    Border Collie/Cardigan Welsh Corgi  Black/White   \n",
       "\n",
       "  Age Group  \n",
       "0     young  \n",
       "1     puppy  \n",
       "2     adult  \n",
       "3     young  \n",
       "4     young  "
      ]
     },
     "execution_count": 124,
     "metadata": {},
     "output_type": "execute_result"
    }
   ],
   "source": [
    "#check to make sure my changes are reflected \n",
    "df.head()"
   ]
  },
  {
   "cell_type": "markdown",
   "metadata": {},
   "source": [
    "> ### Now let's simplify Gender. \n",
    "> I don't need to keep track of neutered/spayed for my objective, so I'll repeat what I did before, with the addition of dropping 'Sex upon Outcome' and replacing with 'Gender'."
   ]
  },
  {
   "cell_type": "code",
   "execution_count": 125,
   "metadata": {},
   "outputs": [
    {
     "data": {
      "text/plain": [
       "Neutered Male    32061\n",
       "Spayed Female    27505\n",
       "Intact Male       9090\n",
       "Intact Female     7934\n",
       "Unknown            504\n",
       "Name: Sex upon Outcome, dtype: int64"
      ]
     },
     "execution_count": 125,
     "metadata": {},
     "output_type": "execute_result"
    }
   ],
   "source": [
    "df['Sex upon Outcome'].value_counts()"
   ]
  },
  {
   "cell_type": "code",
   "execution_count": 126,
   "metadata": {},
   "outputs": [
    {
     "data": {
      "text/plain": [
       "0          Male\n",
       "1          Male\n",
       "2        Female\n",
       "3          Male\n",
       "4        Female\n",
       "          ...  \n",
       "77091      Male\n",
       "77092    Female\n",
       "77093      Male\n",
       "77094      Male\n",
       "77095      Male\n",
       "Name: Gender, Length: 77096, dtype: object"
      ]
     },
     "execution_count": 126,
     "metadata": {},
     "output_type": "execute_result"
    }
   ],
   "source": [
    "sex = {'Neutered Male':'Male', 'Intact Male':'Male', 'Spayed Female':'Female', 'Intact Female':'Female'}\n",
    "\n",
    "df['Gender'] = df['Sex upon Outcome'].map(sex)\n",
    "\n",
    "df['Gender'].replace(sex)"
   ]
  },
  {
   "cell_type": "code",
   "execution_count": 127,
   "metadata": {},
   "outputs": [],
   "source": [
    "df.drop(columns=['Sex upon Outcome'], inplace=True)"
   ]
  },
  {
   "cell_type": "code",
   "execution_count": 128,
   "metadata": {},
   "outputs": [
    {
     "data": {
      "text/html": [
       "<div>\n",
       "<style scoped>\n",
       "    .dataframe tbody tr th:only-of-type {\n",
       "        vertical-align: middle;\n",
       "    }\n",
       "\n",
       "    .dataframe tbody tr th {\n",
       "        vertical-align: top;\n",
       "    }\n",
       "\n",
       "    .dataframe thead th {\n",
       "        text-align: right;\n",
       "    }\n",
       "</style>\n",
       "<table border=\"1\" class=\"dataframe\">\n",
       "  <thead>\n",
       "    <tr style=\"text-align: right;\">\n",
       "      <th></th>\n",
       "      <th>Animal ID</th>\n",
       "      <th>MonthYear</th>\n",
       "      <th>Outcome Type</th>\n",
       "      <th>Animal Type</th>\n",
       "      <th>Age upon Outcome</th>\n",
       "      <th>Breed</th>\n",
       "      <th>Color</th>\n",
       "      <th>Age Group</th>\n",
       "      <th>Gender</th>\n",
       "    </tr>\n",
       "  </thead>\n",
       "  <tbody>\n",
       "    <tr>\n",
       "      <th>0</th>\n",
       "      <td>A776359</td>\n",
       "      <td>18-Jul</td>\n",
       "      <td>Adoption</td>\n",
       "      <td>Dog</td>\n",
       "      <td>1 year</td>\n",
       "      <td>Chihuahua Shorthair Mix</td>\n",
       "      <td>White/Brown</td>\n",
       "      <td>young</td>\n",
       "      <td>Male</td>\n",
       "    </tr>\n",
       "    <tr>\n",
       "      <th>1</th>\n",
       "      <td>A720371</td>\n",
       "      <td>16-Feb</td>\n",
       "      <td>Adoption</td>\n",
       "      <td>Dog</td>\n",
       "      <td>4 months</td>\n",
       "      <td>Anatol Shepherd/Labrador Retriever</td>\n",
       "      <td>Buff</td>\n",
       "      <td>puppy</td>\n",
       "      <td>Male</td>\n",
       "    </tr>\n",
       "    <tr>\n",
       "      <th>2</th>\n",
       "      <td>A659412</td>\n",
       "      <td>20-Oct</td>\n",
       "      <td>Adoption</td>\n",
       "      <td>Dog</td>\n",
       "      <td>7 years</td>\n",
       "      <td>Chihuahua Shorthair Mix</td>\n",
       "      <td>Brown</td>\n",
       "      <td>adult</td>\n",
       "      <td>Female</td>\n",
       "    </tr>\n",
       "    <tr>\n",
       "      <th>3</th>\n",
       "      <td>A814515</td>\n",
       "      <td>20-May</td>\n",
       "      <td>Adoption</td>\n",
       "      <td>Dog</td>\n",
       "      <td>2 years</td>\n",
       "      <td>American Foxhound/Labrador Retriever</td>\n",
       "      <td>White/Brown</td>\n",
       "      <td>young</td>\n",
       "      <td>Male</td>\n",
       "    </tr>\n",
       "    <tr>\n",
       "      <th>4</th>\n",
       "      <td>A840370</td>\n",
       "      <td>21-Aug</td>\n",
       "      <td>Adoption</td>\n",
       "      <td>Dog</td>\n",
       "      <td>2 years</td>\n",
       "      <td>Border Collie/Cardigan Welsh Corgi</td>\n",
       "      <td>Black/White</td>\n",
       "      <td>young</td>\n",
       "      <td>Female</td>\n",
       "    </tr>\n",
       "  </tbody>\n",
       "</table>\n",
       "</div>"
      ],
      "text/plain": [
       "  Animal ID MonthYear Outcome Type Animal Type Age upon Outcome  \\\n",
       "0   A776359    18-Jul     Adoption         Dog           1 year   \n",
       "1   A720371    16-Feb     Adoption         Dog         4 months   \n",
       "2   A659412    20-Oct     Adoption         Dog          7 years   \n",
       "3   A814515    20-May     Adoption         Dog          2 years   \n",
       "4   A840370    21-Aug     Adoption         Dog          2 years   \n",
       "\n",
       "                                  Breed        Color Age Group  Gender  \n",
       "0               Chihuahua Shorthair Mix  White/Brown     young    Male  \n",
       "1    Anatol Shepherd/Labrador Retriever         Buff     puppy    Male  \n",
       "2               Chihuahua Shorthair Mix        Brown     adult  Female  \n",
       "3  American Foxhound/Labrador Retriever  White/Brown     young    Male  \n",
       "4    Border Collie/Cardigan Welsh Corgi  Black/White     young  Female  "
      ]
     },
     "execution_count": 128,
     "metadata": {},
     "output_type": "execute_result"
    }
   ],
   "source": [
    "#check to make sure my changes are reflected\n",
    "df.head()"
   ]
  },
  {
   "cell_type": "code",
   "execution_count": 129,
   "metadata": {},
   "outputs": [
    {
     "data": {
      "text/plain": [
       "Male      41151\n",
       "Female    35439\n",
       "Name: Gender, dtype: int64"
      ]
     },
     "execution_count": 129,
     "metadata": {},
     "output_type": "execute_result"
    }
   ],
   "source": [
    "df['Gender'].value_counts()"
   ]
  },
  {
   "cell_type": "markdown",
   "metadata": {},
   "source": [
    "> ### Now let's bring in Outcome"
   ]
  },
  {
   "cell_type": "code",
   "execution_count": 130,
   "metadata": {},
   "outputs": [
    {
     "data": {
      "text/plain": [
       "Adoption           36987\n",
       "Return to Owner    20325\n",
       "Transfer           16831\n",
       "Euthanasia          1888\n",
       "Rto-Adopt            673\n",
       "Died                 296\n",
       "Disposal              49\n",
       "Missing               32\n",
       "Name: Outcome Type, dtype: int64"
      ]
     },
     "execution_count": 130,
     "metadata": {},
     "output_type": "execute_result"
    }
   ],
   "source": [
    "df['Outcome Type'].value_counts()"
   ]
  },
  {
   "cell_type": "markdown",
   "metadata": {},
   "source": [
    "> I'll filter using conditionals so I can group the Outcomes. "
   ]
  },
  {
   "cell_type": "code",
   "execution_count": 131,
   "metadata": {},
   "outputs": [],
   "source": [
    "vet_death = df['Outcome Type'] == 'Euthanasia' \n",
    "death_unknown = df['Outcome Type'] == 'Died'\n",
    "came_dead = df['Outcome Type'] == 'Disposal'\n",
    "return_to_owner = df['Outcome Type'] == 'Return to Owner'\n",
    "return_to_owner_adopt = df['Outcome Type'] == 'Rto-Adopt'\n",
    "still_waiting = df['Outcome Type'] == 'Transfer'\n",
    "adopted = df['Outcome Type'] == 'Adoption'\n",
    "unknown = df['Outcome Type'] == 'Missing'\n"
   ]
  },
  {
   "cell_type": "code",
   "execution_count": 132,
   "metadata": {},
   "outputs": [
    {
     "data": {
      "text/plain": [
       "Breed                      Age Group  Gender\n",
       "Pit Bull Mix               young      Male      157\n",
       "                                      Female    129\n",
       "                           adult      Male       75\n",
       "                                      Female     52\n",
       "Chihuahua Shorthair Mix    young      Male       32\n",
       "                                               ... \n",
       "Collie Rough Mix           elder      Female      1\n",
       "Cocker Spaniel Mix         young      Male        1\n",
       "                           puppy      Female      1\n",
       "                           elder      Female      1\n",
       "Yorkshire Terrier/Maltese  young      Male        1\n",
       "Length: 617, dtype: int64"
      ]
     },
     "execution_count": 132,
     "metadata": {},
     "output_type": "execute_result"
    }
   ],
   "source": [
    "df.loc[vet_death, ['Breed','Age Group', 'Gender']].value_counts()"
   ]
  },
  {
   "cell_type": "markdown",
   "metadata": {},
   "source": [
    "The above shows more males than females were euthanized.  More young dogs and more Pit Bull mix. Followed by Chihuahua.  Make note that Pit Bull mix had 413 deaths , while the second highest breed had 32 : 381 more lives taken between the two highest breeds. "
   ]
  },
  {
   "cell_type": "markdown",
   "metadata": {},
   "source": [
    ">> Graphing the stark difference between breed and death "
   ]
  },
  {
   "cell_type": "code",
   "execution_count": 133,
   "metadata": {},
   "outputs": [
    {
     "data": {
      "image/png": "[encoded data removed]",
      "text/plain": [
       "<Figure size 708.661x425.197 with 1 Axes>"
      ]
     },
     "metadata": {},
     "output_type": "display_data"
    }
   ],
   "source": [
    "#Use function to change the size of the graph\n",
    "\n",
    "def cm_to_inch(value):\n",
    "    return value/2.54\n",
    "\n",
    "dogs_y = [10, 40 ,70, 100, 130, 160, 200, 300, 413]\n",
    "dogs_x = []\n",
    "\n",
    "plt.figure(figsize=(cm_to_inch(25), cm_to_inch(15)))\n",
    "plt.plot(dogs_y, color=\"red\", label=\"Pit Bull mix\")\n",
    "\n",
    "chi_y = [1, 5, 10, 20, 32, ]\n",
    "\n",
    "plt.plot(chi_y, color=\"blue\", label=\"Chihuahua\")\n",
    "\n",
    "plt.legend(facecolor='gray')\n",
    "\n",
    "\n",
    "plt.title(\"Dogs Euthanized by Breed\", color='black', font='Arial', size=30, pad=25)\n",
    "\n",
    "plt.ylabel(\"Number of Dogs\",color=\"black\",labelpad=20, font='Arial', size=20)\n",
    "\n",
    "ax = plt.gca()\n",
    "ax.get_xaxis().set_visible(False)\n",
    "\n",
    "plt.show()"
   ]
  },
  {
   "cell_type": "code",
   "execution_count": 134,
   "metadata": {},
   "outputs": [
    {
     "data": {
      "text/plain": [
       "Breed                          Age Group  Gender\n",
       "Chihuahua Shorthair Mix        puppy      Male      13\n",
       "Labrador Retriever Mix         puppy      Female    10\n",
       "Pit Bull Mix                   puppy      Female     8\n",
       "Chihuahua Shorthair Mix        puppy      Female     7\n",
       "                               young      Male       7\n",
       "                                                    ..\n",
       "Dachshund Mix                  puppy      Female     1\n",
       "Dachshund/Beagle               young      Male       1\n",
       "Dachshund/Chihuahua Shorthair  young      Male       1\n",
       "Dachshund/Miniature Poodle     adult      Male       1\n",
       "Great Dane                     adult      Male       1\n",
       "Length: 168, dtype: int64"
      ]
     },
     "execution_count": 134,
     "metadata": {},
     "output_type": "execute_result"
    }
   ],
   "source": [
    "df.loc[death_unknown, ['Breed','Age Group', 'Gender']].value_counts()"
   ]
  },
  {
   "cell_type": "markdown",
   "metadata": {},
   "source": [
    "The above shows more females than males died from unknown, with most being puppies.  The highest number in breed being Chihuahua followed closely by Labrador. "
   ]
  },
  {
   "cell_type": "code",
   "execution_count": 135,
   "metadata": {},
   "outputs": [
    {
     "data": {
      "text/plain": [
       "Breed                              Age Group  Gender\n",
       "Pit Bull                           young      Male      3\n",
       "Labrador Retriever                 puppy      Female    2\n",
       "Pit Bull                           puppy      Male      2\n",
       "Collie Smooth                      puppy      Female    2\n",
       "Mastiff                            adult      Female    1\n",
       "Miniature Poodle Mix               adult      Female    1\n",
       "Norwich Terrier Mix                young      Male      1\n",
       "Pit Bull                           puppy      Female    1\n",
       "Pit Bull Mix                       young      Male      1\n",
       "Labrador Retriever Mix             puppy      Male      1\n",
       "Rat Terrier Mix                    young      Male      1\n",
       "Siberian Husky Mix                 young      Male      1\n",
       "St. Bernard Rough Coat Mix         young      Male      1\n",
       "Toy Fox Terrier                    elder      Male      1\n",
       "Unknown                            puppy      Female    1\n",
       "                                   young      Male      1\n",
       "Labrador Retriever Mix             young      Female    1\n",
       "Alaskan Husky                      elder      Male      1\n",
       "American Bulldog Mix               young      Male      1\n",
       "Great Pyrenees/Labrador Retriever  puppy      Male      1\n",
       "German Shepherd Mix                young      Male      1\n",
       "                                   puppy      Male      1\n",
       "German Shepherd                    young      Female    1\n",
       "Doberman Pinsch                    adult      Male      1\n",
       "Dachshund Mix                      young      Male      1\n",
       "Chihuahua Shorthair/Dachshund      young      Female    1\n",
       "Chihuahua Shorthair Mix            elder      Male      1\n",
       "Chihuahua Shorthair                young      Male      1\n",
       "                                   adult      Female    1\n",
       "Bloodhound                         adult      Male      1\n",
       "Anatol Shepherd                    puppy      Male      1\n",
       "American Staffordshire Terrier     puppy      Female    1\n",
       "American Pit Bull Terrier Mix      young      Male      1\n",
       "Yorkshire Terrier Mix              puppy      Male      1\n",
       "dtype: int64"
      ]
     },
     "execution_count": 135,
     "metadata": {},
     "output_type": "execute_result"
    }
   ],
   "source": [
    "df.loc[came_dead, ['Breed','Age Group', 'Gender']].value_counts()"
   ]
  },
  {
   "cell_type": "markdown",
   "metadata": {},
   "source": [
    "The above shows that the distribution of breed and sex that came to the shelter already dead was pretty even, with mostly young dogs and puppies."
   ]
  },
  {
   "cell_type": "code",
   "execution_count": 136,
   "metadata": {},
   "outputs": [
    {
     "data": {
      "text/plain": [
       "Breed                              Age Group  Gender\n",
       "Pit Bull Mix                       young      Male      42\n",
       "                                   adult      Male      25\n",
       "Pit Bull                           young      Male      20\n",
       "                                              Female    18\n",
       "Pit Bull Mix                       young      Female    17\n",
       "                                                        ..\n",
       "Chow Chow Mix                      adult      Male       1\n",
       "                                   elder      Male       1\n",
       "                                   puppy      Male       1\n",
       "Collie Rough Mix                   young      Female     1\n",
       "Yorkshire Terrier/Standard Poodle  young      Male       1\n",
       "Length: 325, dtype: int64"
      ]
     },
     "execution_count": 136,
     "metadata": {},
     "output_type": "execute_result"
    }
   ],
   "source": [
    "df.loc[return_to_owner_adopt, ['Breed','Age Group', 'Gender']].value_counts()"
   ]
  },
  {
   "cell_type": "markdown",
   "metadata": {},
   "source": [
    "The above shows that the top 5 results of breeds returned to owner through adoption is :  91 males, 36 females . 99 young , 26 adult , 1 puppy , 1 elder . With Pit Bull mix having the most with 84 , then Pit Bull with 38 , Chow Chow mix 3 , Collie Rough 1 and Yorkshire Terrier / Standard Poodle 1 "
   ]
  },
  {
   "cell_type": "code",
   "execution_count": 137,
   "metadata": {},
   "outputs": [
    {
     "data": {
      "text/plain": [
       "Breed                               Age Group  Gender\n",
       "Pit Bull Mix                        young      Male      986\n",
       "                                               Female    684\n",
       "                                    adult      Male      463\n",
       "Labrador Retriever Mix              young      Male      426\n",
       "Chihuahua Shorthair Mix             young      Male      399\n",
       "                                                        ... \n",
       "Labrador Retriever/Standard Poodle  adult      Female      1\n",
       "Labrador Retriever/Staffordshire    young      Male        1\n",
       "Catahoula/German Shepherd           young      Male        1\n",
       "Labrador Retriever/Siberian Husky   young      Female      1\n",
       "Yorkshire Terrier/Toy Poodle        young      Male        1\n",
       "Length: 2962, dtype: int64"
      ]
     },
     "execution_count": 137,
     "metadata": {},
     "output_type": "execute_result"
    }
   ],
   "source": [
    "df.loc[return_to_owner, ['Breed','Age Group', 'Gender']].value_counts()"
   ]
  },
  {
   "cell_type": "markdown",
   "metadata": {},
   "source": [
    "The above shows that the top 5 results of breeds returned is : 2,275 males , 685 female . with young being the most frequent age group . Pit Bull mix by far has the highest rate with 2,133 "
   ]
  },
  {
   "cell_type": "code",
   "execution_count": 138,
   "metadata": {},
   "outputs": [
    {
     "data": {
      "text/plain": [
       "Breed                            Age Group  Gender\n",
       "Pit Bull Mix                     young      Male      480\n",
       "                                            Female    404\n",
       "Labrador Retriever Mix           puppy      Female    395\n",
       "                                            Male      395\n",
       "Chihuahua Shorthair Mix          young      Male      390\n",
       "                                                     ... \n",
       "Doberman Pinsch/Dachshund        puppy      Male        1\n",
       "Doberman Pinsch/Border Collie    puppy      Female      1\n",
       "Doberman Pinsch/Black/Tan Hound  puppy      Female      1\n",
       "Doberman Pinsch/Black Mouth Cur  puppy      Male        1\n",
       "Yorkshire Terrier/Toy Poodle     young      Male        1\n",
       "Length: 2796, dtype: int64"
      ]
     },
     "execution_count": 138,
     "metadata": {},
     "output_type": "execute_result"
    }
   ],
   "source": [
    "df.loc[still_waiting, ['Breed','Age Group', 'Gender']].value_counts()"
   ]
  },
  {
   "cell_type": "markdown",
   "metadata": {},
   "source": [
    "The above shows that the top 5 results of breeds that are still waiting in the shelter : 1,266 males to 800 females.  1,274 young , 792 puppies . With the top breed being Pit Bull mix with 884 , followed close with Labrador 790 , then Chihuahua with 390"
   ]
  },
  {
   "cell_type": "code",
   "execution_count": 139,
   "metadata": {},
   "outputs": [
    {
     "data": {
      "text/plain": [
       "Breed                                Age Group  Gender\n",
       "Labrador Retriever Mix               puppy      Female    1126\n",
       "Pit Bull Mix                         young      Male      1095\n",
       "                                                Female    1075\n",
       "Labrador Retriever Mix               puppy      Male      1004\n",
       "Chihuahua Shorthair Mix              young      Male       823\n",
       "                                                          ... \n",
       "Dachshund/Pbgv                       young      Male         1\n",
       "Dachshund/Pembroke Welsh Corgi       puppy      Male         1\n",
       "                                     young      Male         1\n",
       "Dachshund/Pomeranian                 adult      Female       1\n",
       "Yorkshire Terrier/Yorkshire Terrier  adult      Male         1\n",
       "Length: 4212, dtype: int64"
      ]
     },
     "execution_count": 139,
     "metadata": {},
     "output_type": "execute_result"
    }
   ],
   "source": [
    "df.loc[adopted, ['Breed','Age Group', 'Gender']].value_counts()"
   ]
  },
  {
   "cell_type": "markdown",
   "metadata": {},
   "source": [
    "The above shows  2,923 male to 2,201 female dogs adopted.  With the two youngest age groups leading adoptions with: 2,994 young 2,130 puppies . The top two breeds adopted were: Pit Bull mix with 2,170 and Labrador Retriever mix with 2,130"
   ]
  },
  {
   "cell_type": "markdown",
   "metadata": {},
   "source": [
    "> ### In conclusion, I was correct with most of my assumptions.  I was surprised by the number of puppies / young dogs with death from unknown causes, but when I began this project I didn't consider pregnant dogs and common illnesses that can kill a litter.  "
   ]
  }
 ],
 "metadata": {
  "interpreter": {
   "hash": "4339233acef0d9ee43dddba0b88b64a49c827e791183ab9463a621e4a753f885"
  },
  "kernelspec": {
   "display_name": "Python 3.10.1 ('.venv': venv)",
   "language": "python",
   "name": "python3"
  },
  "language_info": {
   "codemirror_mode": {
    "name": "ipython",
    "version": 3
   },
   "file_extension": ".py",
   "mimetype": "text/x-python",
   "name": "python",
   "nbconvert_exporter": "python",
   "pygments_lexer": "ipython3",
   "version": "3.10.1"
  },
  "orig_nbformat": 4
 },
 "nbformat": 4,
 "nbformat_minor": 2
}
