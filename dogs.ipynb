{
 "cells": [
  {
   "cell_type": "markdown",
   "metadata": {},
   "source": [
    "I want to focus on dogs only. Does breed, color, age or gender matter on the outcome of the dog?  I think gender and age won't matter as much as breed and color. And that Pit Bulls and black dogs have a more difficult time being adopted and a higher rate of being in the shelter to start with."
   ]
  },
  {
   "cell_type": "markdown",
   "metadata": {},
   "source": [
    "Importing the necessary packages. Reading in the data. Showing what columns I have to begin with"
   ]
  },
  {
   "cell_type": "code",
   "execution_count": null,
   "metadata": {},
   "outputs": [],
   "source": [
    "import pandas as pd\n",
    "import numpy as np\n",
    "import matplotlib.pyplot as plt\n",
    "\n",
    "df = pd.read_csv('data.csv')\n",
    "df.info()"
   ]
  },
  {
   "cell_type": "markdown",
   "metadata": {},
   "source": [
    "Dropping columns I don't need"
   ]
  },
  {
   "cell_type": "code",
   "execution_count": null,
   "metadata": {},
   "outputs": [],
   "source": [
    "df.drop(columns=['Name'], inplace=True)\n",
    "df.drop(columns=['DateTime'], inplace=True)\n",
    "df.drop(columns=['Outcome Subtype'], inplace=True)\n",
    "df.drop(columns=['Date of Birth'], inplace=True)\n",
    "df.head()"
   ]
  },
  {
   "cell_type": "markdown",
   "metadata": {},
   "source": [
    "Seeing what Animal Types, then dropping all but dogs "
   ]
  },
  {
   "cell_type": "code",
   "execution_count": null,
   "metadata": {},
   "outputs": [],
   "source": [
    "df['Animal Type'].value_counts()\n"
   ]
  },
  {
   "cell_type": "code",
   "execution_count": null,
   "metadata": {},
   "outputs": [],
   "source": [
    "df = df[df['Animal Type'] !='Cat']\n",
    "df = df[df['Animal Type'] !='Other']\n",
    "df = df[df['Animal Type'] !='Bird']\n",
    "df = df[df['Animal Type'] !='Livestock']\n",
    "df.head()\n"
   ]
  },
  {
   "cell_type": "markdown",
   "metadata": {},
   "source": [
    "The next two cells, checking for missing data.  There isn't much missing so it shouldn't have an impact worth noting for my purpose, but I have it if I need it for later."
   ]
  },
  {
   "cell_type": "code",
   "execution_count": null,
   "metadata": {},
   "outputs": [],
   "source": [
    "df.isnull().sum()"
   ]
  },
  {
   "cell_type": "code",
   "execution_count": null,
   "metadata": {},
   "outputs": [],
   "source": [
    "missing_outcome_type = pd.isnull(df['Outcome Type'])\n",
    "df[missing_outcome_type].head()"
   ]
  },
  {
   "cell_type": "code",
   "execution_count": null,
   "metadata": {},
   "outputs": [],
   "source": [
    "#resetting index for easier use later\n",
    "df = df.reset_index(drop=True)\n",
    "df.head()"
   ]
  },
  {
   "cell_type": "code",
   "execution_count": null,
   "metadata": {},
   "outputs": [],
   "source": [
    "df['Breed'].value_counts()  #insert graph here showing the top 5 breeds"
   ]
  },
  {
   "cell_type": "code",
   "execution_count": null,
   "metadata": {},
   "outputs": [],
   "source": [
    "sizes = [1842,3306,6519,7397,8940]\n",
    "explode = (0, 0.1, 0, 0)\n",
    "fig = plt.figure(figsize =(5.5, 5.5))\n",
    "plt.pie(sizes, labels=('Pit Bull', 'German Shepard Mix', 'Chihuahua Shorthair Mix', 'Labrador Retriever Mix', 'Pit Bull Mix'),\n",
    "colors = (\"#a86544\", \"#eb5b13\", \"#ebc713\", \"#bdeb13\", \"#8aeb13\"))\n",
    "\n",
    "\n",
    "plt.show()"
   ]
  },
  {
   "cell_type": "markdown",
   "metadata": {},
   "source": [
    "Now let's look at age. First, I want to see the unique values.  Then I made a dictionary to group the ages as follows:\n",
    "puppy(up to a year), young(1-3), adult(4-9), and elder(10 and over). I am not including -years or 0 years."
   ]
  },
  {
   "cell_type": "code",
   "execution_count": null,
   "metadata": {},
   "outputs": [],
   "source": [
    "df['Age upon Outcome'].sort_values(ascending=True).unique()"
   ]
  },
  {
   "cell_type": "code",
   "execution_count": null,
   "metadata": {},
   "outputs": [],
   "source": [
    "age = {'1 day': 'puppy', '1 month': 'puppy', '1 week': 'puppy', '1 weeks': 'puppy','10 months': 'puppy', '11 months': 'puppy' ,\n",
    "'2 days': 'puppy', '2 months': 'puppy', '2 weeks': 'puppy', '3 days':'puppy', '3 months': 'puppy', '3 weeks':'puppy', '4 days':'puppy', \n",
    "'4 months':'puppy', '4 weeks':'puppy', '5 days': 'puppy', '5 months': 'puppy', '5 weeks':'puppy', '6 days':'puppy', '6 months':'puppy',\n",
    "'7 months':'puppy', '8 months':'puppy', '9 months':'puppy', '1 year':'young', '2 years':'young', '10 years':'elder', '11 years':'elder',\n",
    "'12 years':'elder', '13 years':'elder', '14 years': 'elder', '15 years': 'elder', '16 years':'elder', '17 years':'elder' , '18 years':'elder',\n",
    "'19 years':'elder', '20 years':'elder', '23 years':'elder', '24 years':'elder', '3 years':'young', '4 years':'adult', '5 years': 'adult',\n",
    "'6 years':'adult', '7 years':'adult', '8 years':'adult', '9 years':'adult'}\n",
    "\n",
    "df['Age Group'] = df['Age upon Outcome'].map(age)\n",
    "\n",
    "df['Age Group'].value_counts()"
   ]
  },
  {
   "cell_type": "code",
   "execution_count": null,
   "metadata": {},
   "outputs": [],
   "source": [
    "#check to make sure my changes are reflected \n",
    "df.head()"
   ]
  },
  {
   "cell_type": "code",
   "execution_count": null,
   "metadata": {},
   "outputs": [],
   "source": [
    "df['Outcome Type'].value_counts()"
   ]
  },
  {
   "cell_type": "code",
   "execution_count": null,
   "metadata": {},
   "outputs": [],
   "source": [
    "#filter using conditionals\n",
    "vet_death = df['Outcome Type'] == 'Euthanasia' \n"
   ]
  },
  {
   "cell_type": "code",
   "execution_count": null,
   "metadata": {},
   "outputs": [],
   "source": [
    "df.loc[vet_death, ['Breed','Age Group']].value_counts()"
   ]
  }
 ],
 "metadata": {
  "interpreter": {
   "hash": "4339233acef0d9ee43dddba0b88b64a49c827e791183ab9463a621e4a753f885"
  },
  "kernelspec": {
   "display_name": "Python 3.10.1 ('.venv': venv)",
   "language": "python",
   "name": "python3"
  },
  "language_info": {
   "codemirror_mode": {
    "name": "ipython",
    "version": 3
   },
   "file_extension": ".py",
   "mimetype": "text/x-python",
   "name": "python",
   "nbconvert_exporter": "python",
   "pygments_lexer": "ipython3",
   "version": "3.10.1"
  },
  "orig_nbformat": 4
 },
 "nbformat": 4,
 "nbformat_minor": 2
}
